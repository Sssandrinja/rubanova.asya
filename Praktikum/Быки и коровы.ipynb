{
 "cells": [
  {
   "cell_type": "code",
   "execution_count": null,
   "id": "5355ebbb",
   "metadata": {},
   "outputs": [],
   "source": [
    "from random import randint # единичная функция для создания рандомного числа\n",
    "digit = \"\" \n",
    "repetition = False # убираем повторы цифр в числе\n",
    "for _ in range(4): # четырехзначное число\n",
    "    if not repetition:\n",
    "        while True:\n",
    "            i = str(randint(0,9)) \n",
    "            if not i in digit:\n",
    "                break\n",
    "    else:\n",
    "        i = str(randint(0,9))\n",
    "    digit += i \n",
    "while True:\n",
    "    question = input(\"Введите число:\")\n",
    "    bulls = 0\n",
    "    cows = 0\n",
    "    for j in range(4):\n",
    "        if digit[j] == question[j]:\n",
    "            bulls += 1 # цифра есть в загаданном числе на своем месте\n",
    "        elif question[j] in digit:\n",
    "            cows += 1 # в противном случае - корова \n",
    "    print(bulls, \"быков\", \"и\", cows, \"коров\")\n",
    "    if bulls == 4: # угадали всех быков\n",
    "        print(\"Ура! Победа!\")\n",
    "        break"
   ]
  }
 ],
 "metadata": {
  "kernelspec": {
   "display_name": "Python 3 (ipykernel)",
   "language": "python",
   "name": "python3"
  },
  "language_info": {
   "codemirror_mode": {
    "name": "ipython",
    "version": 3
   },
   "file_extension": ".py",
   "mimetype": "text/x-python",
   "name": "python",
   "nbconvert_exporter": "python",
   "pygments_lexer": "ipython3",
   "version": "3.10.9"
  }
 },
 "nbformat": 4,
 "nbformat_minor": 5
}

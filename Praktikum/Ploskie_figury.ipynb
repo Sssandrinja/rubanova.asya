{
 "cells": [
  {
   "cell_type": "markdown",
   "metadata": {
    "id": "fHbADoOlkw_e"
   },
   "source": [
    "# <font color='CadetBlue'> **ПРАКТИКУМ ПО ПРОГРАММИРОВАНИЮ**"
   ]
  },
  {
   "cell_type": "markdown",
   "metadata": {
    "id": "UHFP36oYlxVP"
   },
   "source": [
    "## <font color='CadetBlue'> **ПЕРВЫЙ СЕМЕСТР**"
   ]
  },
  {
   "cell_type": "markdown",
   "metadata": {
    "id": "Qtks3ldxSlRQ"
   },
   "source": [
    "### <font color='CadetBlue'> **I** — сентябрь, октябрь"
   ]
  },
  {
   "cell_type": "markdown",
   "metadata": {
    "id": "1iuDCvInmaSD"
   },
   "source": [
    "#### <font color='LightCoral'> **ЗАДАНИЕ 1.** Разработка простых игр."
   ]
  },
  {
   "cell_type": "markdown",
   "metadata": {
    "id": "IzFxuK8f74RP"
   },
   "source": [
    "Требуется создать консольное приложение для определенной логической игры с участием одного или более участников. Программа должна обеспечивать интерактивное взаимодействие с пользователем, контролировать правильность хода, отображать текущее состояние игрового поля и определять окончание игры. Все действия игрока осуществляются через консольный ввод. Программа не участвует в игре как противник."
   ]
  },
  {
   "cell_type": "markdown",
   "metadata": {
    "id": "lFE9_osJ7-dC"
   },
   "source": [
    "1. Реализовать программу, с которой можно играть в логическую игру «Быки и коровы» ([правила](http://робомозг.рф/Articles/BullsAndCowsRules)). Программа загадывает число, пользователь вводит очередной вариант отгадываемого числа, программа возвращает количество быков и коров и в случае выигрыша игрока сообщает о победе и завершается. Сама программа НЕ ходит, т.е. не пытается отгадать число загаданное игроком. Взаимодействие с программой производится через консоль, при запросе данных от пользователя программа сообщает, что ожидает от пользователя и проверяет корректность ввода.\n"
   ]
  },
  {
   "cell_type": "markdown",
   "metadata": {
    "id": "Ho01lPUj8QCA"
   },
   "source": [
    "2. Реализовать программу, при помощи которой двое пользователей могут играть в «Крестики-нолики» на поле 3 на 3. Взаимодействие с программой производится через консоль. Игровое поле изображается в виде трех текстовых строк и перерисовывается при каждом изменении состояния поля. При запросе данных от пользователя программа сообщает, что ожидает от пользователя (в частности, координаты новой отметки на поле) и проверяет корректность ввода. Программа должна уметь автоматически определять, что партия окончена, и сообщать о победе одного из игроков или о ничьей. Сама программа НЕ ходит, т.е. не пытается ставить крестики и нолики с целью заполнить линию."
   ]
  },
  {
   "cell_type": "markdown",
   "metadata": {
    "id": "55TZgi2b8Tpu"
   },
   "source": [
    "3. Реализовать программу, при помощи которой двое пользователей могут играть в игру «Супер ним» ([правила](https://www.iqfun.ru/articles/super-nim.shtml)). Правила игры следующие. На шахматной доске в некоторых клетках случайно разбросаны фишки или пуговицы. Игроки ходят по очереди. За один ход можно снять все фишки с какой-либо горизонтали или вертикали, на которой они есть. Выигрывает тот, кто заберет последние фишки. Взаимодействие с программой производится через консоль. Игровое поле изображается в виде текстовых строк и перерисовывается при каждом изменении состояния поля. При запросе данных от пользователя программа сообщает, что ожидает от пользователя (в частности, координаты новой отметки на поле) и проверяет корректность ввода. Программа должна уметь автоматически определять, что партия окончена, и сообщать о победе одного из игроков. Сама программа НЕ ходит, т.е. не пытается выбирать строки или столбцы с целью победить в игре."
   ]
  },
  {
   "cell_type": "markdown",
   "metadata": {
    "id": "UZ4LtEpK8V80"
   },
   "source": [
    "4. Реализовать программу, с которой можно играть в игру «19» ([правила](http://podelki-fox.ru/igry-dlya-detey-na-bumage-s-chislami/)). Правила игры следующие. Нужно выписать подряд числа от 1 до 19: в строчку до 9, а потом начать следующую строку, в каждой клетке по 1 цифре (не числу, см. пример по ссылке). Затем игроку необходимо вычеркнуть парные цифры или дающие в сумме 10. Условие — пары должны находиться рядом или через зачеркнутые цифры по горизонтали или по вертикали. После того как все возможные пары вычеркнуты, оставшиеся цифры переписываются в конец таблицы. Цель — полностью вычеркнуть все цифры. Взаимодействие с программой производится через консоль. Игровое поле изображается в виде трех текстовых строк и перерисовывается при каждом изменении состояния поля. При запросе данных от пользователя программа сообщает, что ожидает от пользователя (в частности, координаты очередного хода) и проверяет корректность ввода. Программа должна уметь автоматически определять, что нужно выписать новые строки с цифрами и то, что партия окончена. Сама программа НЕ ходит, т.е. не пытается выбирать пары цифр с целью окончить игру."
   ]
  },
  {
   "cell_type": "markdown",
   "metadata": {
    "id": "ga8Gi-nN8Y1K"
   },
   "source": [
    "5. Реализовать программу, при помощи которой трое пользователей могут играть в «Лоскутное одеяло». Правила игры следующие. На поле, имеющем размер 4 на 5 клеток за один ход каждый игрок должен заполнить одну клетку своим символом. Игрок старается, чтобы его символы были как можно дальше друг от друга. В ходе игры ведется подсчет очков: за каждое соседство клеток с одинаковыми символами игроку, владельцу символа добавляется одно штрафное очко. Соседними считаются клетки, имеющие общую сторону или расположенные наискосок друг от друга. Выигрывает тот, у кого в конце игры меньше всего штрафных очков.  Взаимодействие с программой производится через консоль. Игровое поле изображается в виде четырех текстовых строк и перерисовывается при каждом изменении состояния поля. При запросе данных от пользователя программа сообщает, что ожидает от пользователя (например, координаты очередного хода) и проверяет корректность ввода. Программа должна уметь автоматически определять количество штрафных очков и окончание партии и ее победителя. Сама программа НЕ ходит, т.е. не пытается заполнять клетки символами с целью выиграть игру."
   ]
  },
  {
   "cell_type": "markdown",
   "metadata": {
    "id": "cSZIovE48bUR"
   },
   "source": [
    "6. Реализовать программу, при помощи которой двое пользователей могут играть в «Клондайк» ([правила](https://www.iqfun.ru/printable-puzzles/klondike-igra.shtml)). Правила игры следующие. Игра ведётся на игровом поле размером 10 на 10 клеток. Игроки по очереди выставляют в любую свободную клетку по отметке, и тот игрок, после чьего хода получилась цепочка длиной хотя бы в три отметки, проигрывает. При этом в цепочке считаются как свои отметки, так и отметки соперника, у игровых фишек как бы нет хозяина. Цепочка — это ряд фишек, следующая фишка в котором примыкает к предыдущей с любого из восьми направлений. Взаимодействие с программой производится через консоль. Игровое поле изображается в виде десяти текстовых строк и перерисовывается при каждом изменении состояния поля. При запросе данных от пользователя программа сообщает, что ожидает от пользователя (например, координаты очередного хода) и проверяет корректность ввода. Программа должна уметь автоматически определять окончание партии и ее победителя. Сама программа НЕ ходит, т.е. не пытается ставить в клетки отметки с целью выиграть игру."
   ]
  },
  {
   "cell_type": "markdown",
   "metadata": {
    "id": "CEiAKnXS8d2I"
   },
   "source": [
    "7. Реализовать программу, при помощи которой двое пользователей могут играть в «Максит» ([правила](https://www.iqfun.ru/articles/maxit.shtml)). Правила игры следующие. В клетках квадрата 3 на 3 пишутся случайные числа из диапазона от 1 до 9. Начинающий выбирает любое понравившееся ему число и вычеркивает его, прибавляя к своей сумме. Второй игрок может выбрать любое из оставшихся чисел того столбца, в котором первый игрок делал свой предыдущий ход. Он тоже вычеркивает выбранное число, прибавляя его к своей сумме. Первый игрок далее поступает аналогично, выбирая число-кандидата из той строки, в которой второй игрок ходил перед этим. Может так случиться, что у какого-то игрока не будет хода. Тогда его соперник продолжает игру, делая ход в той же строке (для первого игрока) или в том же столбце (для второго игрока), что и до этого. Игра заканчивается, когда оба играющих не имеют ходов. Результат определяется по набранным суммам, у кого она больше, тот и выиграл. При равенстве сумм фиксируется ничья. Взаимодействие с программой производится через консоль. Игровое поле изображается в виде трех текстовых строк и перерисовывается при каждом изменении состояния поля. При запросе данных от пользователя программа сообщает, что ожидает от пользователя (например, координаты очередного хода) и проверяет корректность ввода. Программа должна уметь автоматически определять сумму очков каждого из игроков и окончание партии и ее победителя. Сама программа НЕ ходит, т.е. не пытается вычеркивать числа с целью выиграть игру."
   ]
  },
  {
   "cell_type": "markdown",
   "metadata": {
    "id": "13Guk11j8gTj"
   },
   "source": [
    "8. (*) Реализовать программу, при помощи которой двое пользователей могут играть в «Мостики» ([правила](https://www.7ya.ru/article/Chem-zanyat-rebenka-13-igr-na-liste-bumagi-so-slovami-kartinkami/)). Правила игры следующие. В ходе игры каждый из игроков старается построить мост с одного своего берега на другой по камням, образующим массив 4 на 5 (4 камня вдоль берега игрока и 5 камней между берегами). У первого игрока — крестики в качестве камней и берега крестиков (левый и правый край поля), у второго игрока — нолики и берега ноликов (верхний и нижний край поля). Игру можно начинать в любой точке поля. За один ход игрок может соединить два своих соседних камня вертикальным или горизонтальным мостиком (обозначаются в текстовом режиме символами «-» и «|»). Мосты первого и второго игрока пересекаться не должны. Выигрывает тот, кто построит непрерывный мост с одного своего берега на другой. Взаимодействие с программой производится через консоль. Игровое поле изображается в виде девяти текстовых строк и перерисовывается при каждом изменении состояния поля. При запросе данных от пользователя программа сообщает, что ожидает от пользователя (например, координаты очередного хода) и проверяет корректность ввода. Программа должна уметь автоматически определять недопустимые ходы (приводящие к пересечению мостов соперников) и окончание партии и ее победителя. Сама программа НЕ ходит, т.е. не пытается строить мосты с целью выиграть игру."
   ]
  },
  {
   "cell_type": "markdown",
   "metadata": {
    "id": "JVmqnJyy8j_B"
   },
   "source": [
    "9. (*) Реализовать программу, с которой можно играть в игру «Морской бой». Программа автоматически случайно расставляет на поле размером 10 на 10 клеток: четыре однопалубных корабля, три двухпалубных корабля, два трехпалубных корабля и один четырехпалубный. Между любыми двумя кораблями по горизонтали и вертикали должна быть как минимум одна незанятая клетка. Программа позволяет игроку ходить, производя выстрелы. Сама программа НЕ ходит, т.е. не пытается топить корабли расставленные игроком. Взаимодействие с программой производится через консоль. Игровое поле изображается в виде десяти текстовых строк и перерисовывается при каждом изменении состояния поля. При запросе данных от пользователя программа сообщает, что ожидает от пользователя (в частности, координаты очередного «выстрела») и проверяет корректность ввода. Программа должна уметь автоматически определять потопление корабля и окончание партии и сообщать об этих событиях."
   ]
  },
  {
   "cell_type": "markdown",
   "metadata": {
    "id": "0wV0DqH18mmq"
   },
   "source": [
    "10. (*) Реализовать программу, с которой можно играть в игру «Пятнашки». Правила игры следующие. Головоломка представляет собой 15 квадратных костяшек с числами от 1 до 15. Все костяшки заключены в квадратную коробку (поле) размером 4 на 4. При размещении костяшек в коробке остается одно пустое место, которое можно использовать для перемещения костяшек внутри коробки. Цель игры — упорядочить размещение чисел в коробке, разместив их по возрастанию слева направо и сверху вниз, начиная с костяшки с номером 1 в левом верхнем углу и заканчивая пустым местом в правом нижнем углу коробки. Взаимодействие с программой производится через консоль. Игровое поле изображается в виде четырех текстовых строк и перерисовывается при каждом изменении состояния поля. При запросе данных от пользователя программа сообщает, что ожидает от пользователя (например, координаты очередного хода) и проверяет корректность ввода. Программа должна считать количество сделанных ходов, уметь автоматически определять недопустимые ходы, окончание партии и ее победителя. Сама программа НЕ ходит, т.е. не пытается упорядочить костяшки с целью выиграть игру."
   ]
  },
  {
   "cell_type": "markdown",
   "metadata": {
    "id": "S99tNdsJqXHH"
   },
   "source": [
    "#### <font color='LightCoral'> **ЗАДАНИЕ 2.** Текстовый калькулятор."
   ]
  },
  {
   "cell_type": "markdown",
   "metadata": {
    "id": "h5JpOiNH9P-d"
   },
   "source": [
    "***Базовое задание.*** Необходимо написать функцию, которая будет работать в качестве калькулятора для строковых выражений вида `'<число> <операция> <число>'`. В этом выражении `<число>` представляет собой неотрицательное целое число, меньшее 100, записанное словами (например, «тридцать четыре»), а `<арифметическая операция>` — одна из операций «плюс», «минус», «умножить». Функция должна возвращать результат выполнения операции в виде текстового представления числа. Пример использования функции:\n",
    "\n",
    "```calc(\"двадцать пять плюс тринадцать\") -> \"тридцать восемь\".```"
   ]
  },
  {
   "cell_type": "markdown",
   "metadata": {
    "id": "pavGQgWW9rXq"
   },
   "source": [
    "***Дополнительные задания:***\n",
    "\n",
    "Необходимо набрать суммарную сложность дополнительных заданий не менее 7."
   ]
  },
  {
   "cell_type": "markdown",
   "metadata": {
    "id": "yRpDPd9X9yjI"
   },
   "source": [
    "1. Реализовать поддержку операции деления и остатка от деления и работу с дробными числами (десятичными дробями). Пример:\n",
    "\n",
    "    ```calc(\"сорок один и тридцать одна сотая разделить на семнадцать\") -> \"два и сорок три сотых\"```.\n",
    "\n",
    "    Обрабатывать дробную часть до тысячных включительно, если при делении получаются числа с меньшей дробной частью выполнять округление до тысячных.\n",
    "\n",
    "    <font color=\"Crimson\">**сложность 2**\n"
   ]
  },
  {
   "cell_type": "markdown",
   "metadata": {
    "id": "H7vvOWze_f0j"
   },
   "source": [
    "2. *Расширение задания 1*. Реализовать поддержку десятичной дробной части до миллионных долей включительно. Реализовать корректный вывод информации о периодической десятичной дроби (период дроби вплоть до четырех десятичных знаков). Пример:\n",
    "\n",
    "    ```calc(\"девятнадцать и восемьдесят две сотых разделить на девяносто девять\") -> \"ноль и двадцать сотых и ноль два в периоде\"```.\n",
    "\n",
    "    <font color=\"Crimson\">**сложность 3**\n"
   ]
  },
  {
   "cell_type": "markdown",
   "metadata": {
    "id": "ixfLLxhn_kPc"
   },
   "source": [
    "3. Реализовать текстовый калькулятор для выражения из произвольного количества операций с учетом приоритета операций. Пример:\n",
    "\n",
    "    ```calc(\"пять плюс два умножить на три минус один\") -> \"десять\"```.\n",
    "\n",
    "    Для реализации рекомендуется использовать алгоритмы, основанные на польской инверсной записи ([ссылка](https://ru.wikipedia.org/wiki/Обратная_польская_запись)).\n",
    "\n",
    "    <font color=\"Crimson\">**сложность 3**"
   ]
  },
  {
   "cell_type": "markdown",
   "metadata": {
    "id": "yT8H-WVr_lw3"
   },
   "source": [
    "4. *Расширение задания 3*. Добавить поддержку приоритета операций с помощью скобок. Пример:\n",
    "\n",
    "    ```calc(\"скобка открывается пять плюс два скобка закрывается умножить на три минус один\") -> \"двадцать\".```\n",
    "\n",
    "    <font color=\"Crimson\">**сложность 3**\n"
   ]
  },
  {
   "cell_type": "markdown",
   "metadata": {
    "id": "NtEB6TtW_n4l"
   },
   "source": [
    "5. Добавить возможность использования отрицательных чисел. Пример:\n",
    "\n",
    "    ```calc(\"пять минус минус один\") -> \"шесть\"```.\n",
    "\n",
    "    <font color=\"Crimson\">**сложность 1**\n"
   ]
  },
  {
   "cell_type": "markdown",
   "metadata": {
    "id": "a4Mwj7w1_qOb"
   },
   "source": [
    "6. Добавить возможность оперировать с дробями (правильными и смешанными). Реализовать поддержку сложения, вычитания и умножения, дробей. Результат операций не должен представлять неправильную дробь, такие результаты нужно превращать в смешанные дроби. Пример:\n",
    "\n",
    "    ```calc(\"один и четыре пятых плюс шесть седьмых \") -> \"два и двадцать три тридцать пятых\"```.\n",
    "\n",
    "    <font color=\"Crimson\">**сложность 3**\n"
   ]
  },
  {
   "cell_type": "markdown",
   "metadata": {
    "id": "BecpmWPb_sMC"
   },
   "source": [
    "7. *Расширение задания 6*. Добавить автоматическое сокращение дроби в ответе. Пример:\n",
    "\n",
    "    ```calc(\"одна шестая умножить на две третьих\") -> \"одна девятая\"```.\n",
    "\n",
    "    <font color=\"Crimson\">**сложность 1**\n"
   ]
  },
  {
   "cell_type": "markdown",
   "metadata": {
    "id": "s2hoqJ7c_unY"
   },
   "source": [
    "8. *Расширение задания 1*. Добавить операции возведения в степень и тригонометрические операции синус, косинус, тангенс и константу пи. Допускается, как минимум, одна из этих функций в выражении с обычными операциями. Примеры:\n",
    "\n",
    "    ```calc(\"два в степени четыре\") -> \"шестнадцать\"```.\n",
    "\n",
    "    ```calc(\"синус от пи разделить на четыре\") -> \"ноли и семьсот семь тысячных\"```.\n",
    "\n",
    "    <font color=\"Crimson\">**сложность 1 или 2**\n"
   ]
  },
  {
   "cell_type": "markdown",
   "metadata": {
    "id": "rsT184bkCq9y"
   },
   "source": [
    "9. Добавить комбинаторные операции перестановки, размещения и сочетания. Пример:\n",
    "\n",
    "    ```calc(\"размещений из трех по два\") -> \"шесть\"```.\n",
    "\n",
    "    <font color=\"Crimson\">**сложность 1 или 2**"
   ]
  },
  {
   "cell_type": "markdown",
   "metadata": {
    "id": "blmwaD0UC_g1"
   },
   "source": [
    "10. Диагностировать ошибки: неправильную запись числа; неправильную последовательность чисел и операций; (задание 1) деление на ноль; (задание 3) неправильную последовательность чисел и операций; (задание 4) некорректный баланс и вложенность скобок; (задание 6) некорректную запись числа.\n",
    "\n",
    "    <font color=\"Crimson\">**сложность 1 или 2**"
   ]
  },
  {
   "cell_type": "markdown",
   "metadata": {
    "id": "nbrmNnQkSqTF"
   },
   "source": [
    "### <font color='CadetBlue'> **II** —  ноябрь, декабрь"
   ]
  },
  {
   "cell_type": "markdown",
   "metadata": {
    "id": "eEfJ3hdacn2O"
   },
   "source": [
    "#### <font color='LightCoral'> **ЗАДАНИЕ 3.** Реализация пакета модулей по манипулированию табличными данными."
   ]
  },
  {
   "cell_type": "markdown",
   "metadata": {
    "id": "k6wYj1PTEgxY"
   },
   "source": [
    "***Базовое задание.*** На базе модулей `csv`, `pickle` и прямой работы с файлами реализовать следующий базовый функционал:"
   ]
  },
  {
   "cell_type": "markdown",
   "metadata": {
    "id": "hp0l26v6EmUo"
   },
   "source": [
    "1. Функции `load_table` и `save_table` по загрузке/сохранению табличных данных во внутреннее представление модуля/из внутреннего представления модуля:\n",
    "\n",
    "* файла формата `csv` (отдельный модуль с функциями `load_table` и `save_table` в рамках общего пакета);\n",
    "\n",
    "* файла формата `pickle` (отдельный модуль с функциями `load_table` и `save_table` в рамках общего пакета), модуль использует структуру данных для представления таблицы, удобную автору работы;\n",
    "\n",
    "* текстового файла (только функция `save_table`, сохраняющая в текстовом файле представление таблицы, аналогичное выводу на печать с помощью функции `print_table()`)."
   ]
  },
  {
   "cell_type": "markdown",
   "metadata": {
    "id": "uEpL0Td_Eo4T"
   },
   "source": [
    "<u>*Примечание*</u>*: внутреннее представление может базироваться на словаре, где по разным ключам хранятся ключевые «атрибуты» таблицы, а значения таблицы хранятся в виде вложенных списков. Можно выбрать другое внутреннее представление таблицы, в том числе можно реализовать собственный класс для таблицы. При определении API модулей максимально полно использовать возможности сигнатур функций на Python (значения по умолчанию, запаковка/распаковка, в т.ч. именованных параметров, возвращение множественных значений), интенсивно выполнять проверки и возбуждать исключительные ситуации.*"
   ]
  },
  {
   "cell_type": "markdown",
   "metadata": {
    "id": "T1t8iID0DxuX"
   },
   "source": [
    "2. Модуль с базовыми операциями над таблицами:\n",
    "\n",
    "* `get_rows_by_number(start, [stop], copy_table=False)` — получение таблицы из одной строки или из строк из интервала по номеру строки. Функция либо копирует исходные данные, либо создает новое представление таблицы, работающее с исходным набором данных (`copy_table=False`), таким образом изменения, внесенные через это представление, будут наблюдаться и в исходной таблице.\n",
    "\n",
    "* `get_rows_by_index(val1, … , copy_table=False)` — получение новой таблицы из одной строки или из строк со значениями в первом столбце, совпадающими с переданными аргументами `val1`, ..., `valN`. Функция либо копирует исходные данные, либо создает новое представление таблицы, работающее с исходным набором данных (`copy_table=False`), таким образом, изменения, внесенные через это представление, будут наблюдаться и в исходной таблице.\n",
    "\n",
    "* `get_column_types(by_number=True)` — получение словаря вида «столбец: тип значений». Тип значения: `int`, `float`, `bool`, `str` (по умолчанию для всех столбцов). Параметр `by_number` определяет вид значения столбца – целочисленный индекс столбца или его строковое представление.\n",
    "\n",
    "* `set_column_types(types_dict, by_number=True)` — задание словаря вида столбец: тип_значений. Тип значения: `int`, `float`, `bool`, `str` (по умолчанию для всех столбцов). Параметр `by_number` определяет вид значения столбца — целочисленный индекс столбца или его строковое представление.\n",
    "\n",
    "* `get_values(column=0)` — получение списка значений (типизированных согласно типу столбца) таблицы из столбца либо по номеру столбца (целое число, значение по умолчанию `0`), либо по имени столбца.\n",
    "\n",
    "* `get_value(column=0)` — аналог функции `get_values(column=0)` для представления таблицы с одной строкой, возвращает не список, а одно значение (типизированное согласно типу столбца).\n",
    "\n",
    "* `set_values(values, column=0)` — задание списка значений `values` для столбца таблицы (типизированных согласно типу столбца) либо по номеру столбца (целое число, значение по умолчанию 0), либо по имени столбца.\n",
    "\n",
    "* `set_value(value, column=0)` — аналог функции `set_values(values, column=0)` для представления таблицы с одной строкой, устанавливает не список значений, а одно значение (типизированное согласно типу столбца).\n",
    "\n",
    "* `print_table()` — вывод таблицы на печать."
   ]
  },
  {
   "cell_type": "markdown",
   "metadata": {
    "id": "iFwEZlIoEs3e"
   },
   "source": [
    "3. Для каждой функции должна быть реализована генерация не менее одного вида исключительных ситуаций."
   ]
  },
  {
   "cell_type": "markdown",
   "metadata": {
    "id": "cX7ntPYlFcPq"
   },
   "source": [
    "***Дополнительные задания:***\n",
    "\n",
    "Необходимо набрать суммарную сложность дополнительных заданий не менее 7."
   ]
  },
  {
   "cell_type": "markdown",
   "metadata": {
    "id": "9P7sWWJmFiQz"
   },
   "source": [
    "1. В `load_table` реализовать `load_table(file1, ...)` — поддержку загрузки таблицы, разбитой на несколько файлов (произвольное количество файлов) (для форматов `csv` и `pickle`). В случае несоответствия структуры столбцов файлов вызывать исключительную ситуацию.\n",
    "\n",
    "    <font color=\"Crimson\">**сложность 1**"
   ]
  },
  {
   "cell_type": "markdown",
   "metadata": {
    "id": "qmEJURwSFxOt"
   },
   "source": [
    "2. *Расширение задания 1*. В `save_table` реализовать поддержку сохранения таблицы в разбитой на несколько файлов (произвольное количество файлов) по параметру `max_rows`, определяющему максимальное количество строк в файле. Файлы `csv` и `pickle`, полученные с помощью `save_table` должны быть совместимы с `load_table` из задания 1.\n",
    "\n",
    "    <font color=\"Crimson\">**сложность 1**"
   ]
  },
  {
   "cell_type": "markdown",
   "metadata": {
    "id": "4gG2B6uAF3g2"
   },
   "source": [
    "3. Реализовать функции `concat(table1, table2)` и `split(row_number)`, склеивающую две таблицы или разбивающую одну таблицу на две по номеру строки соответственно.\n",
    "\n",
    "    <font color=\"Crimson\">**сложность 1**\n"
   ]
  },
  {
   "cell_type": "markdown",
   "metadata": {
    "id": "26Ip82gUGDO3"
   },
   "source": [
    "4. Реализовать автоматическое определение типа столбцов по хранящимся в таблице значениям. Оформить как отдельную функцию и встроить этот функционал как опцию работы функции `load_table`.\n",
    "\n",
    "    <font color=\"Crimson\">**сложность 1 или 2**\n"
   ]
  },
  {
   "cell_type": "markdown",
   "metadata": {
    "id": "BBJFFt7NGHYj"
   },
   "source": [
    "5. Реализовать поддержку дополнительного типа значений «дата и время» на основе модуля `datetime`.\n",
    "\n",
    "    <font color=\"Crimson\">**сложность 1 или 2**\n"
   ]
  },
  {
   "cell_type": "markdown",
   "metadata": {
    "id": "4YOLPv6qGK-i"
   },
   "source": [
    "6. Добавить набор функций `add`, `sub`, `mul`, `div`, которые обеспечат выполнение арифметических операций для столбцов типа `int`, `float`, `bool`. Продумать сигнатуру функций и изменения в другие функции, которые позволят удобно выполнять арифметические операции со столбцами и присваивать результаты вычислений. Реализовать реагирование на некорректные значения с помощью генерации исключительных ситуаций.\n",
    "\n",
    "    <font color=\"Crimson\">**сложность 2**\n"
   ]
  },
  {
   "cell_type": "markdown",
   "metadata": {
    "id": "u3ujVZbCGQ6S"
   },
   "source": [
    "7. По аналогии с п. 6 реализовать функции `eq` (`==`), `gr` (`>`), `ls` (`<`), `ge` (`>=`), `le` (`<=`), `ne` (`==`), которые возвращают список булевских значений длинной в количество строк сравниваемых столбцов. Реализовать функцию `filter_rows(bool_list, copy_table=False)` — получение новой таблицы из строк, для которых в `bool_list` (длинной в количество строк в таблице) находится значение `True`.\n",
    "\n",
    "    <font color=\"Crimson\">**сложность 3**\n"
   ]
  },
  {
   "cell_type": "markdown",
   "metadata": {
    "id": "JTlu9LuOGf5y"
   },
   "source": [
    "8. Реализовать функцию `merge_tables(table1, table2, by_number=True)`: в результате слияния создается таблица с набором столбцов, соответствующих объединенному набору столбцов исходных таблиц. Соответствие строк ищется либо по их номеру (`by_number=True`) либо по значению индекса (первый столбец). При выполнении слияния возможно множество конфликтных ситуаций. Автор должен их описать и определить допустимый способ реакции на них (в т.ч. через дополнительные параметры функции и инициацию исключительных ситуаций).\n",
    "\n",
    "    <font color=\"Crimson\">**сложность 2**\n"
   ]
  },
  {
   "cell_type": "markdown",
   "metadata": {
    "id": "DuAtmbJLGnrH"
   },
   "source": [
    "9. Реализовать полноценную поддержку значения `None` в незаполненных ячейках таблицы. Должно работать при загрузке ячеек с пропусками значений, при операциях, приводящих к появлению пустых ячеек, при работе с `get` и `set` операциями.\n",
    "\n",
    "    <font color=\"Crimson\">**сложность 1 или 2**\n"
   ]
  },
  {
   "cell_type": "markdown",
   "metadata": {
    "id": "XdpHm6SQco3u"
   },
   "source": [
    "#### <font color='LightCoral'> **ЗАДАНИЕ 4.** Шахматный симулятор."
   ]
  },
  {
   "cell_type": "markdown",
   "metadata": {
    "id": "IjWoM7nwJVYg"
   },
   "source": [
    "***Базовое задание.*** Реализовать программу, которая позволяет играть в шахматы на компьютере. Взаимодействие с программой производится через консоль (базовый вариант). Игровое поле изображается в виде восьми текстовых строк, плюс строки с буквенным обозначением столбцов (рис. 1) и перерисовывается при каждом изменении состояния поля. При запросе данных от пользователя программа сообщает, что ожидает от пользователя (например, позицию фигуры для следующего хода белыми; целевую позицию выбранной фигуры) и проверяет корректность ввода (допускаются только ходы соответствующие правилам шахмат; поддержка рокировки, сложных правил для пешек и проверки мата вынесена в отдельные пункты). Программа должна считать количество сделанных ходов."
   ]
  },
  {
   "cell_type": "markdown",
   "metadata": {
    "id": "iGeuCoRAJYk_"
   },
   "source": [
    "![11.png](data:image/png;base64,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)\n",
    "\n",
    "Рисунок 1 — Игровое поле"
   ]
  },
  {
   "cell_type": "markdown",
   "metadata": {
    "id": "kO600sNsJ7qw"
   },
   "source": [
    "Сама программа НЕ ходит, т.е. не пытается выполнить ходы за одну из сторон, а предоставляет поочередно вводить ходы за белых и черных."
   ]
  },
  {
   "cell_type": "markdown",
   "metadata": {
    "id": "AEBm3zuKJ_MG"
   },
   "source": [
    "***Справка о шахматной нотации:***"
   ]
  },
  {
   "cell_type": "markdown",
   "metadata": {
    "id": "zNdqqRNXKC8d"
   },
   "source": [
    "* Общая информация о шахматной нотации записи партий: [ссылка](https://ru.wikipedia.org/wiki/Шахматная_нотация).\n",
    "\n",
    "* Партии в полной нотации: бесплатная база (для открытия партий нужно зарегистрироваться на ресурсе) записей партий в шахматной нотации (полной): [ссылка](http://www.chessebook.com/openings.php?lan=ru&pa=pa) (для получения файлов с записью партий копируйте текст понравившихся партий в текстовый файл, скопированный текст не подвергать дополнительному редактированию и сохранить в файл).\n",
    "\n",
    "* Партии в сокращенной нотации взять из обсуждений на `kasparovchess.crestbook.com`, например, из этой ветки: [ссылка](http://kasparovchess.crestbook.com/threads/8210/) (для получения файлов с записью партий копируйте текст понравившихся партий, расположенных справа от блока с доской, в текстовый файл, скопированный текст не подвергать дополнительному редактированию (он во многих нюансах будет отличаться от партий с `chessebook.com`, так и должно быть) и сохранять файл).\n"
   ]
  },
  {
   "cell_type": "markdown",
   "metadata": {
    "id": "90wWORwKKVbR"
   },
   "source": [
    "***Дополнительные задания:***\n",
    "\n",
    "Необходимо набрать суммарную сложность дополнительных заданий не менее 5."
   ]
  },
  {
   "cell_type": "markdown",
   "metadata": {
    "id": "SbzYxAaLKwxX"
   },
   "source": [
    "1. Реализовать чтение записи шахматной партии из выбранного пользователем файла в полной нотации. После чтения должна быть возможность двигаться вперед и назад по записи партии (с соответствующим изменением на поле). Должна быть возможность в выбранной позиции перейти из режима просмотра партии в обычный режим игры. Протестировать не менее чем на 20 реальных партиях с сайта.\n",
    "\n",
    "    <font color=\"Crimson\">**сложность 2**\n"
   ]
  },
  {
   "cell_type": "markdown",
   "metadata": {
    "id": "NkPlrkMQK4Zc"
   },
   "source": [
    "2. Реализовать чтение записи шахматной партии из выбранного пользователем файла в сокращенной нотации. После чтения должна быть возможность двигаться вперед и назад по записи партии (с соответствующим изменением на поле). Должна быть возможность в выбранной позиции перейти из режима просмотра партии в обычный режим игры. Протестировать не менее чем на 20 реальных партиях с сайта.\n",
    "\n",
    "    <font color=\"Crimson\">**сложность 3 (если пункты 1 и 2 совместно, то суммарная сложность 4)**\n"
   ]
  },
  {
   "cell_type": "markdown",
   "metadata": {
    "id": "2v8NNbfmK62t"
   },
   "source": [
    "3. Реализовать возможность записи разыгрываемой шахматной партии в текстовый файл в полной (сокращенной, если студент выполнял задание 2 нотации. Записать партию можно на любом ходу, с историей всей партии с самого начала. Записанная партия должна корректно воспроизводиться в режиме чтения записи партии.\n",
    "\n",
    "    <font color=\"Crimson\">**сложность 2**"
   ]
  },
  {
   "cell_type": "markdown",
   "metadata": {
    "id": "OGGFMNIJLp5J"
   },
   "source": [
    "4. Реализовать возможность «отката» ходов. С помощью специальной команды можно возвращаться на ход (или заданное количество ходов) назад вплоть до начала партии.\n",
    "\n",
    "    <font color=\"Crimson\">**сложность 1**"
   ]
  },
  {
   "cell_type": "markdown",
   "metadata": {
    "id": "8bg8uvS2Lvqw"
   },
   "source": [
    "5. Реализовать функцию подсказки выбора новой позиции фигуры: после выбора фигуры для хода функция визуально на поле показывает поля доступные для хода или фигуры соперника, доступные для взятия, выбранной фигурой.\n",
    "\n",
    "    <font color=\"Crimson\">**сложность 1**"
   ]
  },
  {
   "cell_type": "markdown",
   "metadata": {
    "id": "P2i6cvsRL1U-"
   },
   "source": [
    "6. Реализовать функцию подсказки угрожаемых фигур: она возвращает информацию о том, какие фигуры ходящего игрока сейчас находятся под боем (т.е. могут быть взяты соперником на следующий ход) и визуально выделяет их на поле. Функция отдельно указывает на наличие шаха королю.\n",
    "    \n",
    "    <font color=\"Crimson\">**сложность 1**"
   ]
  },
  {
   "cell_type": "markdown",
   "metadata": {
    "id": "pGXQeUwtL2zE"
   },
   "source": [
    "7. Автоматически определять мат (правила определения: [ссылка](https://ru.wikipedia.org/wiki/Мат_(шахматы))).\n",
    "\n",
    "    <font color=\"Crimson\">**сложность 2**"
   ]
  },
  {
   "cell_type": "markdown",
   "metadata": {
    "id": "wMzKfKVmMrxF"
   },
   "source": [
    "8. Реализовать поддержку выполнения рокировки по всем шахматным правилам (в базовой версии поддержка рокировки не обязательна). Правила рокировки: [сслыка](https://ru.wikipedia.org/wiki/Рокировка).\n",
    "\n",
    "    <font color=\"Crimson\">**сложность 1**"
   ]
  },
  {
   "cell_type": "markdown",
   "metadata": {
    "id": "hc_-3VpTOEHO"
   },
   "source": [
    "9. Реализовать поддержку для пешки сложных правил: «взятие на проходе» и замены на другух фигуру при достижении крайней горизонтали (в базовой версии их поддержка не обязательна, но возможность первого хода на одну или две горизонтали — обязательно). Подробнее о правилах: [ссылка](https://ru.wikipedia.org/wiki/Правила_шахмат).\n",
    "\n",
    "    <font color=\"Crimson\">**сложность 1**"
   ]
  },
  {
   "cell_type": "markdown",
   "metadata": {
    "id": "Eiz1r57hl3Lv"
   },
   "source": [
    "## <font color='CadetBlue'> **ВТОРОЙ СЕМЕСТР**"
   ]
  },
  {
   "cell_type": "markdown",
   "metadata": {
    "id": "WtxZotV6eLD2"
   },
   "source": [
    "### <font color='CadetBlue'> **I** —  февраль, март"
   ]
  },
  {
   "cell_type": "markdown",
   "metadata": {
    "id": "s2CXmHkJeW6N"
   },
   "source": [
    "#### <font color='LightCoral'> **ЗАДАНИЕ 5.** Шахматный симулятор: объектно-ориентированная версия."
   ]
  },
  {
   "cell_type": "markdown",
   "metadata": {
    "id": "Yyu6twufPGck"
   },
   "source": [
    "***Базовое задание.*** На базе собственной реализации предыдущего задания создать объектно-ориентированную реализацию  программы для игры в шахматы. Базовые требования к функциональности программы сохраняются прежними."
   ]
  },
  {
   "cell_type": "markdown",
   "metadata": {
    "id": "VTBzGteNPKpo"
   },
   "source": [
    "***Требования к реализации.*** Основные объекты и абстрактные сущности игры должны быть представлены в виде объектов, представителей соответствующих классов, часть классов должны быть организованы в виде иерархии. В частности: шахматные фигуры — объекты, представители классов, организованных в виде иерархии; доска — объект; ходы фигур — объекты. Вся основная информация должна храниться в атрибутах объектов или классов (например, информация о положении фигур, цвете фигур, символах, используемых для визуализации фигур и т.п.). Основная часть функционала должна программы должна быть организована в виде методов, закрепленных за соответствующими объектами или классами. Например, это касается методов определяющих допустимые ходы фигур. Организация иерархий классов, атрибутов и методов должна позволять гибко расширять возможности программы с минимальными изменениями в уже созданном коде."
   ]
  },
  {
   "cell_type": "markdown",
   "metadata": {
    "id": "ErR-zS9UPXa8"
   },
   "source": [
    "***Дополнительные задания:***\n",
    "\n",
    "Необходимо набрать суммарную сложность дополнительных заданий не менее 5."
   ]
  },
  {
   "cell_type": "markdown",
   "metadata": {
    "id": "DdsIg6Q1PPed"
   },
   "source": [
    "1. Придумать 3 новых вида фигур с оригинальными правилами перемещения и реализовать их классы. Создать модификацию шахмат с новыми фигурами с минимальным вмешательством в существующий код.\n",
    "\n",
    "    <font color=\"Crimson\">**сложность 1**"
   ]
  },
  {
   "cell_type": "markdown",
   "metadata": {
    "id": "8Djk-TX0Pp8_"
   },
   "source": [
    "2. На базе игры в шахматы реализовать игру в шашки. Разработать модификацию шахмат с минимальным вмешательством в существующий код.\n",
    "\n",
    "    <font color=\"Crimson\">**сложность 2**"
   ]
  },
  {
   "cell_type": "markdown",
   "metadata": {
    "id": "F0KcfTPTPrsh"
   },
   "source": [
    "3. На базе игры в шахматы на классической доске реализовать игру в гексагональные шахматы ([ссылка](https://ru.wikipedia.org/wiki/Гексагональные_шахматы)). Выбрать один из трех вариантов: шахматы Глинского; шахматы МакКуэя; шахматы Шафрана. Разработать модификацию шахмат с минимальным вмешательством в существующий код для обычных шахмат.\n",
    "\n",
    "    <font color=\"Crimson\">**сложность 3**\n"
   ]
  },
  {
   "cell_type": "markdown",
   "metadata": {
    "id": "4tQzErgFPyKE"
   },
   "source": [
    "4. На базе игры в шахматы на классической доске реализовать игру в гексагональные шахматы на троих ([ссылка](https://ru.wikipedia.org/wiki/Шахматы_для_троих)). Выбрать один из существующих вариантов. Разработать модификацию шахмат с минимальным вмешательством в существующий код для обычных шахмат.\n",
    "\n",
    "    <font color=\"Crimson\">**сложность 4**\n"
   ]
  },
  {
   "cell_type": "markdown",
   "metadata": {
    "id": "gs_bVCpbP3k9"
   },
   "source": [
    "5. Реализовать возможность «отката» ходов. С помощью специальной команды можно возвращаться на ход (или заданное количество ходов) назад вплоть до начала партии. Информация о ходах в партии должна храниться в объектно-ориентированном виде.\n",
    "\n",
    "    <font color=\"Crimson\">**сложность 1**"
   ]
  },
  {
   "cell_type": "markdown",
   "metadata": {
    "id": "sf_m6ze8P5_p"
   },
   "source": [
    "6. Реализовать функцию подсказки выбора новой позиции фигуры: после выбора фигуры для хода функция визуально на поле показывает поля доступные для хода или фигуры соперника, доступные для взятия, выбранной фигурой. Информация о допустимых ходах должна храниться в объектно-ориентированном виде, алгоритм без модификации должен работать при добавлении новых типов фигур (задание берется совместно с заданием 1).\n",
    "\n",
    "    <font color=\"Crimson\">**сложность 1**"
   ]
  },
  {
   "cell_type": "markdown",
   "metadata": {
    "id": "I7qqICuSP8gH"
   },
   "source": [
    "7. Реализовать функцию подсказки угрожаемых фигур: она возвращает информацию о том, какие фигуры ходящего игрока сейчас находятся под боем (т.е. могут быть взяты соперником на следующий ход) и визуально выделяет их на поле. Функция отдельно указывает на наличие шаха королю. Информация о допустимых ходах должна храниться в объектно-ориентированном виде, алгоритм без модификации должен работать при добавлении новых типов фигур (задание берется совместно с заданием 1).\n",
    "\n",
    "    <font color=\"Crimson\">**сложность 1**\n"
   ]
  },
  {
   "cell_type": "markdown",
   "metadata": {
    "id": "_JHWvqfmL6gG"
   },
   "source": [
    "8. Реализовать поддержку для пешки сложных правил: «взятие на проходе» и замены на другую фигуру при достижении крайней горизонтали (в базовой версии их поддержка не обязательна, но возможность первого хода на одну или две горизонтали — обязательно). Подробно: [ссылка](https://ru.wikipedia.org/wiki/Правила_шахмат). Информация о допустимых ходах должна храниться в объектно-ориентированном виде, алгоритм без модификации должен работать при добавлении новых типов фигур со сложным поведением (задание берется совместно с заданием 1 и как минимум одна из новых фигур должна иметь сложное поведение, т.е. изменение правил хода и взятия фигуры в зависимости от дополнительных условий).\n",
    "\n",
    "    <font color=\"Crimson\">**сложность 1**\n"
   ]
  },
  {
   "cell_type": "markdown",
   "metadata": {
    "id": "GZgHsGJmeKrR"
   },
   "source": [
    "### <font color='CadetBlue'> **II** —  апрель, май"
   ]
  },
  {
   "cell_type": "markdown",
   "metadata": {
    "id": "YpP98h6Lej5f"
   },
   "source": [
    "#### <font color='LightCoral'> **ЗАДАНИЕ 6.** Реализация пакета модулей для манипулирования плоскими фигурами."
   ]
  },
  {
   "cell_type": "markdown",
   "metadata": {
    "id": "wpHKsan_Q6oH"
   },
   "source": [
    "Реализовать API, которое позволяет генерировать, преобразовывать и визуализировать последовательность плоских полигонов, представленных в виде картежа картежей (например: `((0,0), (0,1), (1,1), (1,0))` — представление для квадрата). Последовательности представлений полигонов представляют собой итераторы (далее: последовательности полигонов). Решать задачи с использованием функционального стиля программирования, в том числе активно использовать функции из модуля `itertools` и `functools`."
   ]
  },
  {
   "cell_type": "code",
   "source": [
    "import matplotlib.pyplot as plt  # для визуализации графики\n",
    "import matplotlib.patches as patches  #  для создания геометрических фигур на графике\n",
    "import math \n",
    "from itertools import islice, cycle  # необходимые функций из itertools\n",
    "\n",
    "# Функции для работы с полигонами\n",
    "\n",
    "def polygon_area(polygon):  # Функция для вычисления площади полигона\n",
    "    area = 0\n",
    "    for i in range(len(polygon)):\n",
    "        j = (i + 1) % len(polygon)\n",
    "        area += polygon[i][0] * polygon[j][1]\n",
    "        area -= polygon[j][0] * polygon[i][1]\n",
    "    return abs(area) / 2.0\n",
    "\n",
    "def edge_length(p1, p2):  # Подсчет длины ребра между двумя точками\n",
    "    return math.sqrt((p2[0] - p1[0])**2 + (p2[1] - p1[1])**2)\n",
    "\n",
    "def is_point_inside_polygon(point, polygon):  # проверка принадлежности точки многоугольнику\n",
    "    x, y = point\n",
    "    n = len(polygon)\n",
    "    inside = False\n",
    "    p1x, p1y = polygon[0]\n",
    "    # проходим по двум осям\n",
    "    for i in range(n + 1):\n",
    "        p2x, p2y = polygon[i % n]\n",
    "        # проверка по оси oy\n",
    "        if y > min(p1y, p2y):\n",
    "            if y <= max(p1y, p2y):\n",
    "                # проверка по оси ох\n",
    "                if x <= max(p1x, p2x):\n",
    "                    if p1y != p2y:\n",
    "                        xints = (y - p1y) * (p2x - p1x) / (p2y - p1y) + p1x\n",
    "                    if p1x == p2x or x <= xints:\n",
    "                        inside = not inside\n",
    "        p1x, p1y = p2x, p2y\n",
    "    return inside\n",
    "\n",
    "# Функция для визуализации полигонов\n",
    "def visualize_polygons(polygon_iterator):  # Функция для визуализации последовательности полигонов\n",
    "    fig, ax = plt.subplots()  # Создание графического окна и объекта для рисования\n",
    "\n",
    "    for polygon in polygon_iterator:  # Для каждого полигона из последовательности\n",
    "        poly_patch = patches.Polygon(polygon, closed=True, edgecolor='r', fill=False)  # Создание объекта полигона\n",
    "        ax.add_patch(poly_patch)  # Добавление полигона на график\n",
    "\n",
    "    ax.set_xlim(-10, 10)  # Установка пределов по оси X\n",
    "    ax.set_ylim(-10, 10)  # Установка пределов по оси Y\n",
    "    ax.set_aspect('equal', adjustable='box')  # Установка одинакового масштаба по обеим осям\n",
    "    cycle(2)\n",
    "    plt.grid(True)  # Включение сетки на графике\n",
    "    plt.show()  # Отображение графика\n",
    "\n",
    "# Генераторы полигонов\n",
    "\n",
    "def gen_rectangle():  # Генератор прямоугольников\n",
    "    x, y = 0, 0\n",
    "    while True:\n",
    "        yield [(x, y), (x+1, y), (x+1, y+2), (x, y+2)]  # Возвращение координат вершин прямоугольника\n",
    "        x += 2  # Перемещение по оси X для следующего прямоугольника\n",
    "\n",
    "def gen_triangle():  # Генератор треугольников\n",
    "    x, y = 0, 0\n",
    "    while True:\n",
    "        yield [(x, y), (x+1, y), (x+0.5, y+1)]  # Возвращение координат вершин треугольника\n",
    "        x += 2  # Перемещение по оси X для следующего треугольника\n",
    "\n",
    "# Операции трансформации\n",
    "\n",
    "def tr_translate(dx, dy):  # Операция параллельного переноса\n",
    "    def translate(polygon):\n",
    "        return [(x + dx, y + dy) for x, y in polygon]\n",
    "    return translate\n",
    "\n",
    "def tr_rotate(angle):  # Операция поворота\n",
    "    angle_rad = math.radians(angle)\n",
    "    cos_angle = math.cos(angle_rad)\n",
    "    sin_angle = math.sin(angle_rad)\n",
    "    \n",
    "    def rotate(polygon):\n",
    "        return [(x * cos_angle - y * sin_angle, x * sin_angle + y * cos_angle) for x, y in polygon]\n",
    "    return rotate\n",
    "\n",
    "# Операции фильтрации\n",
    "\n",
    "def flt_convex_polygon(polygon):  # Фильтрация полигонов по выпуклости\n",
    "    def is_convex(polygon):\n",
    "        def direction(p1, p2, p3):\n",
    "            return (p3[1] - p1[1]) * (p2[0] - p1[0]) - (p2[1] - p1[1]) * (p3[0] - p1[0])\n",
    "\n",
    "        positive = any(direction(polygon[i], polygon[i + 1], polygon[i + 2]) > 0 for i in range(len(polygon) - 2))\n",
    "        negative = any(direction(polygon[i], polygon[i + 1], polygon[i + 2]) < 0 for i in range(len(polygon) - 2))\n",
    "        \n",
    "        return not (positive and negative)\n",
    "    \n",
    "    return is_convex(polygon)\n",
    "\n",
    "def flt_angle_point(point):  # Фильтрация полигонов, имеющих угол в заданной точке\n",
    "    def has_angle_at_point(polygon):\n",
    "        return any(vertex == point for vertex in polygon)\n",
    "    \n",
    "    return has_angle_at_point\n",
    "\n",
    "def flt_square(min_area):  # Фильтрация полигонов по площади\n",
    "    def has_large_enough_area(polygon):\n",
    "        return abs(polygon_area(polygon)) >= min_area\n",
    "    \n",
    "    return has_large_enough_area\n",
    "\n",
    "def flt_short_side(min_length):  # Фильтрация полигонов по минимальной длине стороны\n",
    "    def has_long_enough_side(polygon):\n",
    "        # return min(edge_length(polygon\n",
    "        pass\n",
    "    \n",
    "def has_long_enough_side(polygon):\n",
    "        return min(edge_length(polygon[i], polygon[(i + 1) % len(polygon)]) for i range(len(polygon))) >= len(\"polygon\")\n",
    "\n",
    "def flt_point_inside(point): \n",
    "    # Фильтрация выпуклых многоугольников, включающих заданную точку\n",
    "    def includes_point(polygon):\n",
    "        return is_point_inside_polygon(point, polygon)\n",
    "    \n",
    "    return includes_point\n",
    "\n",
    "def flt_polygon_angles_inside(reference_polygon):  # Фильтрация выпуклых многоугольников, включающих хотя бы один угол заданного многоугольника\n",
    "    def includes_any_angle(polygon):\n",
    "        return any(is_point_inside_polygon(vertex, polygon) for vertex in reference_polygon)\n",
    "    \n",
    "    return includes_any_angle\n",
    "\n",
    "# Генерация симметричных треугольников\n",
    "def tr_symmetry(axis='x'):\n",
    "    if axis == 'x':\n",
    "        def symmetry(polygon):\n",
    "            return [(x, -y) for x, y in polygon]\n",
    "    elif axis == 'y':\n",
    "        def symmetry(polygon):\n",
    "            return [(-x, y) for x, y in polygon]\n",
    "    else:\n",
    "        raise ValueError(\"Axis must be 'x' or 'y'\")\n",
    "    return symmetry\n",
    "\n",
    "# Гомотетия\n",
    "def tr_homothety(k):\n",
    "    def homothety(polygon):\n",
    "        return [(x * k, y * k) for x, y in polygon]\n",
    "    return homothety\n",
    "\n",
    "# Создание последовательности полигонов с операциями трансформации\n",
    "\n",
    "translate1 = tr_translate(0, 0)  # Операция параллельного переноса\n",
    "translate2 = tr_translate(2, 2)  # Операция параллельного переноса\n",
    "\n",
    "stripes1 = list(islice((translate1(next(\"rect_gen\")) for _ in range(5)), 3))  # Создание последовательности прямоугольников с операцией переноса\n",
    "stripes2 = list(islice((translate2(next(\"tri_gen\")) for _ in range(5)), 3))  # Создание последовательности треугольников с операцией переноса\n",
    "\n",
    "# Применение фильтров к последовательности полигонов\n",
    "\n",
    "filtered_stripes1 = filter(flt_convex_polygon, stripes1)  # Фильтрация по выпуклости\n",
    "filtered_stripes2 = filter(flt_angle_point((0, 0)), stripes2)  # Фильтрация по наличию угла в точке (0, 0)\n",
    "\n",
    "# Визуализация\n",
    "\n",
    "print(\"Filtered Stripes 1:\")\n",
    "visualize_polygons(iter(filtered_stripes1))  # Визуализация отфильтрованных прямоугольников\n",
    "print(\"Filtered Stripes 2:\")\n",
    "visualize_polygons(iter(filtered_stripes2))  # Визуализация отфильтрованных треугольников    \n"
   ],
   "metadata": {
    "id": "1li8FLCdBS_0",
    "is_executing": true
   },
   "execution_count": null,
   "outputs": []
  },
  {
   "cell_type": "markdown",
   "metadata": {
    "id": "wCT7jwC9XA1E"
   },
   "source": []
  },
  {
   "cell_type": "markdown",
   "metadata": {
    "id": "lU5hhAucRCX9"
   },
   "source": []
  },
  {
   "cell_type": "code",
   "source": [
    "# 2"
   ],
   "metadata": {
    "colab": {
     "base_uri": "https://localhost:8080/",
     "height": 420
    },
    "id": "-fwaKr2TBOtt",
    "outputId": "858a1e07-d7d3-42e7-d4d4-a52fc5e100bb"
   },
   "execution_count": 7,
   "outputs": [
    {
     "output_type": "display_data",
     "data": {
      "text/plain": [
       "<Figure size 640x480 with 1 Axes>"
      ],
      "image/png": "[encoded data removed]"
     },
     "metadata": {}
    }
   ]
  },
  {
   "cell_type": "markdown",
   "metadata": {
    "id": "-9whCcZORWRd"
   },
   "source": []
  },
  {
   "cell_type": "code",
   "source": [
    "# 2"
   ],
   "metadata": {
    "colab": {
     "base_uri": "https://localhost:8080/",
     "height": 420
    },
    "id": "CXTtgnSfh7w3",
    "outputId": "71c561c8-bb34-4d4e-cb45-70041994cad4"
   },
   "execution_count": 8,
   "outputs": [
    {
     "output_type": "display_data",
     "data": {
      "text/plain": [
       "<Figure size 640x480 with 1 Axes>"
      ],
      "image/png": "[encoded data removed]"
     },
     "metadata": {}
    }
   ]
  },
  {
   "cell_type": "code",
   "source": [
    "# 2"
   ],
   "metadata": {
    "colab": {
     "base_uri": "https://localhost:8080/",
     "height": 420
    },
    "id": "EIFZLgTjp6xM",
    "outputId": "323f3089-a2a1-4848-b04b-6fe882e84e44"
   },
   "execution_count": 13,
   "outputs": [
    {
     "output_type": "display_data",
     "data": {
      "text/plain": [
       "<Figure size 640x480 with 1 Axes>"
      ],
      "image/png": "[encoded data removed]"
     },
     "metadata": {}
    }
   ]
  },
  {
   "cell_type": "code",
   "source": [
    "# 2"
   ],
   "metadata": {
    "colab": {
     "base_uri": "https://localhost:8080/",
     "height": 420
    },
    "id": "1X-BZEvtp-xL",
    "outputId": "72663498-368f-4afa-9ad7-f88bcf9b8156"
   },
   "execution_count": 9,
   "outputs": [
    {
     "output_type": "display_data",
     "data": {
      "text/plain": [
       "<Figure size 640x480 with 1 Axes>"
      ],
      "image/png": "[encoded data removed]"
     },
     "metadata": {}
    }
   ]
  },
  {
   "cell_type": "code",
   "execution_count": 11,
   "outputs": [
    {
     "output_type": "display_data",
     "data": {
      "text/plain": [
       "<Figure size 640x480 with 1 Axes>"
      ],
      "image/png": "[encoded data removed]"
     },
     "metadata": {}
    }
   ],
   "source": [
    "# 3"
   ],
   "metadata": {
    "collapsed": false
   }
  },
  {
   "cell_type": "code",
   "source": [
    "# 3"
   ],
   "metadata": {
    "colab": {
     "base_uri": "https://localhost:8080/",
     "height": 420
    },
    "id": "OBfUfq0rseKO",
    "outputId": "5a05bef6-c1b6-4c26-d8ab-5b0df771c5d9"
   },
   "execution_count": 19,
   "outputs": [
    {
     "output_type": "display_data",
     "data": {
      "text/plain": [
       "<Figure size 640x480 with 1 Axes>"
      ],
      "image/png": "[encoded data removed]"
     },
     "metadata": {}
    }
   ]
  },
  {
   "cell_type": "code",
   "source": [
    "# 3"
   ],
   "metadata": {
    "colab": {
     "base_uri": "https://localhost:8080/",
     "height": 420
    },
    "id": "5hc0taU9uMxD",
    "outputId": "2440f828-6201-4687-c5e8-06b83805b04e"
   },
   "execution_count": 17,
   "outputs": [
    {
     "output_type": "display_data",
     "data": {
      "text/plain": [
       "<Figure size 640x480 with 1 Axes>"
      ],
      "image/png": "[encoded data removed]"
     },
     "metadata": {}
    }
   ]
  },
  {
   "cell_type": "markdown",
   "metadata": {
    "id": "WsDKzeplSMsx"
   },
   "source": []
  },
  {
   "cell_type": "code",
   "source": [
    "# 4"
   ],
   "metadata": {
    "colab": {
     "base_uri": "https://localhost:8080/",
     "height": 420
    },
    "id": "c1fDVm2EuwcE",
    "outputId": "c0a676b8-2aa0-428f-b06b-76f153b75b9a"
   },
   "execution_count": 20,
   "outputs": [
    {
     "output_type": "display_data",
     "data": {
      "text/plain": [
       "<Figure size 640x480 with 1 Axes>"
      ],
      "image/png": "[encoded data removed]"
     },
     "metadata": {}
    }
   ]
  },
  {
   "cell_type": "code",
   "source": [
    "# 4"
   ],
   "metadata": {
    "colab": {
     "base_uri": "https://localhost:8080/",
     "height": 420
    },
    "id": "tOXSQVIyxd89",
    "outputId": "da2c5cdd-4c71-4270-9ae2-45e5adb5ae0a"
   },
   "execution_count": 21,
   "outputs": [
    {
     "output_type": "display_data",
     "data": {
      "text/plain": [
       "<Figure size 640x480 with 1 Axes>"
      ],
      "image/png": "[encoded data removed]"
     },
     "metadata": {}
    }
   ]
  },
  {
   "cell_type": "code",
   "source": [
    "# 4"
   ],
   "metadata": {
    "colab": {
     "base_uri": "https://localhost:8080/",
     "height": 420
    },
    "id": "d34zGwRXxloa",
    "outputId": "8fdec2c7-0ab3-4974-8980-b20f753a1bed"
   },
   "execution_count": 22,
   "outputs": [
    {
     "output_type": "display_data",
     "data": {
      "text/plain": [
       "<Figure size 640x480 with 1 Axes>"
      ],
      "image/png": "[encoded data removed]"
     },
     "metadata": {}
    }
   ]
  },
  {
   "cell_type": "markdown",
   "metadata": {
    "id": "e53wbHcTSrie"
   },
   "source": []
  },
  {
   "cell_type": "markdown",
   "metadata": {
    "id": "bJkqx1RTS5FG"
   },
   "source": [
    "# 5"
   ]
  },
  {
   "cell_type": "code",
   "source": [
    "# 5"
   ],
   "metadata": {
    "colab": {
     "base_uri": "https://localhost:8080/",
     "height": 420
    },
    "id": "wGYb729s5W0x",
    "outputId": "cc3ce184-cbbe-42f4-91c3-848a2f762bd8"
   },
   "execution_count": 23,
   "outputs": [
    {
     "output_type": "display_data",
     "data": {
      "text/plain": [
       "<Figure size 640x480 with 1 Axes>"
      ],
      "image/png": "[encoded data removed]"
     },
     "metadata": {}
    }
   ]
  },
  {
   "cell_type": "code",
   "source": [
    "# 5"
   ],
   "metadata": {
    "colab": {
     "base_uri": "https://localhost:8080/",
     "height": 420
    },
    "id": "UAE614iq5wGt",
    "outputId": "297d49a9-a7c6-45d2-dd14-83adf7f6f728"
   },
   "execution_count": 24,
   "outputs": [
    {
     "output_type": "display_data",
     "data": {
      "text/plain": [
       "<Figure size 640x480 with 1 Axes>"
      ],
      "image/png": "[encoded data removed]"
     },
     "metadata": {}
    }
   ]
  },
  {
   "cell_type": "markdown",
   "metadata": {
    "id": "IyU3iXCwTRIB"
   },
   "source": [
    "6.\tС помощью данных функций реализовать и визуализировать:\n",
    "\n",
    "* фильтрацию фигур, созданных в рамках пункта 4.4; подобрать параметры так, чтобы на выходе было получено шесть фигур;\n",
    "\n",
    "* используя функции генерации из п. 2 и операции из п. 3, создать не менее 15 фигур, которые имеют различный масштаб, и выбрать из них (подбором параметра фильтрации) не более четырех фигур, имеющих кратчайшую сторону меньше заданного значения;\n",
    "\n",
    "* используя функции генерации из п. 2 и операции из п. 3, создать не менее 15 фигур имеющих множество пересечений и обеспечить фильтрацию пересекающихся фигур.\n",
    "\n",
    "<font color=\"Crimson\">**обязательная часть: 1 пункт<br>3 пункта — сложность 1**"
   ]
  },
  {
   "cell_type": "code",
   "source": [],
   "metadata": {
    "id": "xrHf3ATy6AmK"
   },
   "execution_count": null,
   "outputs": []
  },
  {
   "cell_type": "markdown",
   "metadata": {
    "id": "karU3xHZTgj5"
   },
   "source": [
    "7.\tРеализовать декораторы и продемонстрировать корректность их работы:\n",
    "\n",
    "* фильтрующие многоугольники в итераторах среди аргументов функции, работающие на основе функций из п. 5: `@flt_convex_polygon`, `@flt_angle_point`, `@flt_square`, `@flt_short_side`, `@flt_point_inside`, `@flt_polygon_angles_inside`;\n",
    "\n",
    "* преобразующие многоугольники в итераторах среди аргументов функции, работающие на основе функций из п. 3: `@tr_translate`, `@tr_rotate`, `@tr_symmetry`, `@tr_homothety`.\n",
    "\n",
    "<font color=\"Crimson\">**обязательная часть: 1 пункт<br>5 пунктов — сложность 1**"
   ]
  },
  {
   "cell_type": "markdown",
   "metadata": {
    "id": "MG8WeVKbT2mM"
   },
   "source": [
    "8. Реализовать функции и продемонстрировать их корректность:\n",
    "\n",
    "* поиск угла, самого близкого к началу координат (`agr_origin_nearest`);\n",
    "\n",
    "* поиск самого длинной стороны многоугольника (`agr_max_side`);\n",
    "\n",
    "* поиск самой маленькой площади многоугольника (`agr_min_area`);\n",
    "\n",
    "* расчет суммарного периметра (`agr_perimeter`);\n",
    "\n",
    "* расчет суммарной площади (`agr_area`);\n",
    "\n",
    "которые можно применить к последовательности полигонов с помощью функции `functools.reduce`.\n",
    "\n",
    "<font color=\"Crimson\">**3 пункта — сложность 1<br>5 пунктов — сложность 2**\n"
   ]
  },
  {
   "cell_type": "markdown",
   "metadata": {
    "id": "I9ba9lY6UEtL"
   },
   "source": [
    "9. Реализовать функции и продемонстрировать пример их работы (если возможно, с визуализацией):\n",
    "\n",
    "* склейки полигонов в одну последовательность полигонов из нескольких последовательностей полигонов `zip_polygons(iterator1, iterator2, [iterator3, ...])`. Пример:  \n",
    "\n",
    "    ```zip_polygons([((1, 1), (2, 2), (3, 1)), ((11, 11), (12, 12), (13, 11))], [((1, -1), (2, -2), (3, -1)), ((11, -11), (12, -12), (13, -11))])``` →\n",
    "\n",
    "    ```[((1, 1), (2, 2), (3, 1), (1, -1), (2, -2), (3, -1)), ((11, 11), (12, 12), (13, 11), (11, -11), (12, -12), (13, -11))]```.\n",
    "\n",
    "Альтернативный пример (визуализация) на рис. 4."
   ]
  },
  {
   "cell_type": "markdown",
   "metadata": {
    "id": "AqmW4hTuUrTC"
   },
   "source": [
    "![44.png](data:image/png;base64,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)\n",
    "\n",
    "Рисунок 4 — Альтернативный пример склейки полигонов"
   ]
  },
  {
   "cell_type": "markdown",
   "metadata": {
    "id": "NEt9cE12U2kn"
   },
   "source": [
    "* генерации `count_2D()` параметры: `(start1, start2)`, `[(step1, step2)]`, результаты: `(start1, start2)`, `(start1+step1, start2+step2)`, `(start1+2*step1, start2+2*step2)`;\n",
    "\n",
    "* склейки полигонов в одну последовательность полигонов из нескольких последовательностей `zip_tuple(iterator1, iterator2)`. Пример:\n",
    "\n",
    "    ```zip_tuple([(1,1),  (2,2), (3,3), (4,4)], [(2,2), (3,3), (4,4), (5,5)], [(3,3), (4,4), (5,5), (6,6)])``` →\n",
    "\n",
    "    ```((1,1),  (2,2), (3,3)), ((2,2), (3,3) (4,4)), ((3,3), (4,4), (5,5)), ((5,5), (6,6), (7,7))```.\n",
    "\n",
    "<font color=\"Crimson\">**3 пункта — сложность 1**"
   ]
  },
  {
   "cell_type": "code",
   "execution_count": null,
   "metadata": {
    "id": "z7Oi7mi1BNCG",
    "outputId": "024a7474-b47b-4907-995d-048d154f9af3"
   },
   "outputs": [
    {
     "name": "stdout",
     "output_type": "stream",
     "text": [
      "5050\n"
     ]
    }
   ],
   "source": [
    "res=0\n",
    "for i in range(0,101):\n",
    "    res+=i\n",
    "print(res)"
   ]
  },
  {
   "cell_type": "code",
   "execution_count": null,
   "metadata": {
    "id": "WHZyDjusBNCH",
    "outputId": "a264abf7-d5f7-4948-c5bb-11ed80dbf48b"
   },
   "outputs": [
    {
     "data": {
      "text/plain": [
       "5050.0"
      ]
     },
     "execution_count": 6,
     "metadata": {},
     "output_type": "execute_result"
    }
   ],
   "source": [
    "n=100\n",
    "res1=n*(n-1)/2\n",
    "res1"
   ]
  },
  {
   "cell_type": "code",
   "execution_count": null,
   "metadata": {
    "id": "hhD8lHO7BNCH"
   },
   "outputs": [],
   "source": [
    "r=0.5\n",
    "s=3.14*r**2"
   ]
  }
 ],
 "metadata": {
  "colab": {
   "collapsed_sections": [
    "1iuDCvInmaSD",
    "S99tNdsJqXHH",
    "eEfJ3hdacn2O",
    "XdpHm6SQco3u",
    "s2CXmHkJeW6N",
    "YpP98h6Lej5f"
   ],
   "provenance": []
  },
  "kernelspec": {
   "display_name": "Python 3 (ipykernel)",
   "language": "python",
   "name": "python3"
  },
  "language_info": {
   "codemirror_mode": {
    "name": "ipython",
    "version": 3
   },
   "file_extension": ".py",
   "mimetype": "text/x-python",
   "name": "python",
   "nbconvert_exporter": "python",
   "pygments_lexer": "ipython3",
   "version": "3.10.9"
  }
 },
 "nbformat": 4,
 "nbformat_minor": 0
}

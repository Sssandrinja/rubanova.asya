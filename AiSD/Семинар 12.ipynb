{
 "cells": [
  {
   "cell_type": "markdown",
   "id": "ddd3a200",
   "metadata": {},
   "source": [
    "1) При помощи стека (можно использовать любую реализацию стека, например, из лекции) проверить, что в строке, содержащей большой фрагмент кода на python, корректно открываются и закрываются скобки '(' и ')'. Заводить какие-либо счетчики и вообще вести подсчет скобок запрещено. \n",
    "Например, в следующей строке корректное количество скобок: \n",
    "'((dsasdas((das(d)das)d)asd)da)' \n",
    "А вот в следующей закрывающих больше, чем открывающих:\n",
    "'(f(gfhd((hgfdg((fghh)dads)das))ds)adddads())))' "
   ]
  },
  {
   "cell_type": "code",
   "execution_count": 277,
   "id": "589fd302",
   "metadata": {},
   "outputs": [
    {
     "name": "stdout",
     "output_type": "stream",
     "text": [
      "Ошибка: Скобки во фрагменте кода расставлены некорректно.\n"
     ]
    }
   ],
   "source": [
    "class Stack(object):\n",
    "    def __init__(self):\n",
    "        self.lst = []\n",
    "\n",
    "    def pop(self): # функция для удаления из списка\n",
    "        if self.lst:\n",
    "            return self.lst.pop()\n",
    "        return None\n",
    "\n",
    "    def check_brackets(self, code):\n",
    "        opening_brackets = '('\n",
    "        closing_brackets = ')'\n",
    "        for char in code:\n",
    "            if char == opening_brackets:\n",
    "                self.lst.append(char)\n",
    "            elif char == closing_brackets:\n",
    "                if len(self.lst)==0 or self.lst.pop() != '(': # если список пустой или же последний его элемент не открывающаяся скобка \n",
    "                    return False      \n",
    "        return not self.lst\n",
    "\n",
    "# Пример большого фрагмента кода для проверки\n",
    "code_fragment = \"\"\"\n",
    "def my_function(param1, param2):\n",
    "    if (param1 > param2) and (param1 % 2 == 0)):\n",
    "        print(\"param1 is greater than param2 and even\")\n",
    "    else:\n",
    "        print(\"param1 is not greater than param2 or odd\")\n",
    "\"\"\"\n",
    "s = Stack()\n",
    "if s.check_brackets(code_fragment):\n",
    "    print(\"Скобки во фрагменте кода расставлены корректно.\")\n",
    "else:\n",
    "    print(\"Ошибка: Скобки во фрагменте кода расставлены некорректно.\")"
   ]
  },
  {
   "cell_type": "markdown",
   "id": "b96b5b45",
   "metadata": {},
   "source": [
    "2) С помощью списка (list) реализовать стек. При создании стека нужно передать максимальную длину стека. В случае попытки добавления элемента, приводящего к превышению емкости стека возвращать ошибку. \n",
    "Стек должен поддерживать следующие операции: \n",
    "S.push(e): добавление элемента e на вершину стека S. \n",
    "S.pop(): удаляет и возвращает верхний элемент стека S. Если стек пуст, то возникает ошибка. \n",
    "S.top(): возвращает верхний элемент стека S, не удаляя его. Если стек пуст, то возникает ошибка. \n",
    "S.is_empty( ): возвращает True если стек S не содержит ни одного элемента. \n",
    "len(S): возвращает текущеее количество элементов в стеке S. \n"
   ]
  },
  {
   "cell_type": "code",
   "execution_count": 278,
   "id": "39644254",
   "metadata": {},
   "outputs": [],
   "source": [
    "class List(object):\n",
    "    def __init__(self, val):\n",
    "        self.val = val\n",
    "        self.lst = []\n",
    "        \n",
    "    def push(self, e):\n",
    "        assert len(self.lst) < self.val, 'Стек заполнен!'\n",
    "        self.lst.append(e)\n",
    "        \n",
    "    def pop(self):\n",
    "        assert len(self.lst) != 0, 'Стек пуст!'\n",
    "        return self.lst.pop()\n",
    "        \n",
    "    def top(self):\n",
    "        assert len(self.lst) != 0, 'Стек пуст!'\n",
    "        return self.lst[-1]\n",
    "    \n",
    "    def is_empty(self):\n",
    "        return len(self.lst) == 0\n",
    "\n",
    "    def lenL(self):\n",
    "        return len(self.lst)"
   ]
  },
  {
   "cell_type": "code",
   "execution_count": 279,
   "id": "bf456d77",
   "metadata": {},
   "outputs": [],
   "source": [
    "S = List(3)"
   ]
  },
  {
   "cell_type": "code",
   "execution_count": 280,
   "id": "a46a574e",
   "metadata": {},
   "outputs": [
    {
     "ename": "AssertionError",
     "evalue": "Стек пуст!",
     "output_type": "error",
     "traceback": [
      "\u001b[0;31m---------------------------------------------------------------------------\u001b[0m",
      "\u001b[0;31mAssertionError\u001b[0m                            Traceback (most recent call last)",
      "Cell \u001b[0;32mIn[280], line 1\u001b[0m\n\u001b[0;32m----> 1\u001b[0m S\u001b[38;5;241m.\u001b[39mtop()\n",
      "Cell \u001b[0;32mIn[278], line 15\u001b[0m, in \u001b[0;36mList.top\u001b[0;34m(self)\u001b[0m\n\u001b[1;32m     14\u001b[0m \u001b[38;5;28;01mdef\u001b[39;00m \u001b[38;5;21mtop\u001b[39m(\u001b[38;5;28mself\u001b[39m):\n\u001b[0;32m---> 15\u001b[0m     \u001b[38;5;28;01massert\u001b[39;00m \u001b[38;5;28mlen\u001b[39m(\u001b[38;5;28mself\u001b[39m\u001b[38;5;241m.\u001b[39mlst) \u001b[38;5;241m!=\u001b[39m \u001b[38;5;241m0\u001b[39m, \u001b[38;5;124m'\u001b[39m\u001b[38;5;124mСтек пуст!\u001b[39m\u001b[38;5;124m'\u001b[39m\n\u001b[1;32m     16\u001b[0m     \u001b[38;5;28;01mreturn\u001b[39;00m \u001b[38;5;28mself\u001b[39m\u001b[38;5;241m.\u001b[39mlst[\u001b[38;5;241m-\u001b[39m\u001b[38;5;241m1\u001b[39m]\n",
      "\u001b[0;31mAssertionError\u001b[0m: Стек пуст!"
     ]
    }
   ],
   "source": [
    "S.top()"
   ]
  },
  {
   "cell_type": "code",
   "execution_count": 281,
   "id": "c77eb2be",
   "metadata": {},
   "outputs": [
    {
     "data": {
      "text/plain": [
       "[1, 2, 3]"
      ]
     },
     "execution_count": 281,
     "metadata": {},
     "output_type": "execute_result"
    }
   ],
   "source": [
    "S.push(1)\n",
    "S.push(2)\n",
    "S.push(3)\n",
    "S.lst"
   ]
  },
  {
   "cell_type": "code",
   "execution_count": 282,
   "id": "536180ff",
   "metadata": {},
   "outputs": [
    {
     "ename": "AssertionError",
     "evalue": "Стек заполнен!",
     "output_type": "error",
     "traceback": [
      "\u001b[0;31m---------------------------------------------------------------------------\u001b[0m",
      "\u001b[0;31mAssertionError\u001b[0m                            Traceback (most recent call last)",
      "Cell \u001b[0;32mIn[282], line 1\u001b[0m\n\u001b[0;32m----> 1\u001b[0m S\u001b[38;5;241m.\u001b[39mpush(\u001b[38;5;241m4\u001b[39m)\n",
      "Cell \u001b[0;32mIn[278], line 7\u001b[0m, in \u001b[0;36mList.push\u001b[0;34m(self, e)\u001b[0m\n\u001b[1;32m      6\u001b[0m \u001b[38;5;28;01mdef\u001b[39;00m \u001b[38;5;21mpush\u001b[39m(\u001b[38;5;28mself\u001b[39m, e):\n\u001b[0;32m----> 7\u001b[0m     \u001b[38;5;28;01massert\u001b[39;00m \u001b[38;5;28mlen\u001b[39m(\u001b[38;5;28mself\u001b[39m\u001b[38;5;241m.\u001b[39mlst) \u001b[38;5;241m<\u001b[39m \u001b[38;5;28mself\u001b[39m\u001b[38;5;241m.\u001b[39mval, \u001b[38;5;124m'\u001b[39m\u001b[38;5;124mСтек заполнен!\u001b[39m\u001b[38;5;124m'\u001b[39m\n\u001b[1;32m      8\u001b[0m     \u001b[38;5;28mself\u001b[39m\u001b[38;5;241m.\u001b[39mlst\u001b[38;5;241m.\u001b[39mappend(e)\n",
      "\u001b[0;31mAssertionError\u001b[0m: Стек заполнен!"
     ]
    }
   ],
   "source": [
    "S.push(4)"
   ]
  },
  {
   "cell_type": "code",
   "execution_count": 283,
   "id": "5fab0b1d",
   "metadata": {},
   "outputs": [
    {
     "data": {
      "text/plain": [
       "3"
      ]
     },
     "execution_count": 283,
     "metadata": {},
     "output_type": "execute_result"
    }
   ],
   "source": [
    "S.top()"
   ]
  },
  {
   "cell_type": "code",
   "execution_count": 284,
   "id": "eb9c1a3a",
   "metadata": {},
   "outputs": [
    {
     "data": {
      "text/plain": [
       "3"
      ]
     },
     "execution_count": 284,
     "metadata": {},
     "output_type": "execute_result"
    }
   ],
   "source": [
    "S.pop()"
   ]
  },
  {
   "cell_type": "code",
   "execution_count": 285,
   "id": "86087619",
   "metadata": {},
   "outputs": [
    {
     "data": {
      "text/plain": [
       "[1, 2]"
      ]
     },
     "execution_count": 285,
     "metadata": {},
     "output_type": "execute_result"
    }
   ],
   "source": [
    "S.lst"
   ]
  },
  {
   "cell_type": "code",
   "execution_count": 286,
   "id": "c87204b3",
   "metadata": {},
   "outputs": [
    {
     "data": {
      "text/plain": [
       "False"
      ]
     },
     "execution_count": 286,
     "metadata": {},
     "output_type": "execute_result"
    }
   ],
   "source": [
    "S.is_empty()"
   ]
  },
  {
   "cell_type": "code",
   "execution_count": 287,
   "id": "ab8e30db",
   "metadata": {},
   "outputs": [
    {
     "data": {
      "text/plain": [
       "2"
      ]
     },
     "execution_count": 287,
     "metadata": {},
     "output_type": "execute_result"
    }
   ],
   "source": [
    "S.lenL()"
   ]
  },
  {
   "cell_type": "markdown",
   "id": "22b1567c",
   "metadata": {},
   "source": [
    "3) Реализовать класс однонаправленного связанного списка.  "
   ]
  },
  {
   "cell_type": "markdown",
   "id": "cbd1138f",
   "metadata": {},
   "source": [
    "Для себя:\n",
    "Связанные однонаправленные списки в Python - это тип данных, который представляет собой набор элементов, каждый из которых ссылается на следующий элемент в списке. В таком списке элементы располагаются последовательно, и каждый элемент содержит ссылку на следующий элемент. Это позволяет удобно хранить и оперировать набором данных в порядке следования."
   ]
  },
  {
   "cell_type": "markdown",
   "id": "f241493a",
   "metadata": {},
   "source": [
    "\n",
    "1. Класс Node представляет узел списка. Узел содержит данные (data) и ссылку на следующий узел (next). Метод __init__ используется для инициализации узла с заданными данными.\n",
    "\n",
    "2. Класс LinkedList представляет однонаправленный связанный список. У него есть атрибут head, который указывает на первый узел списка.\n",
    "\n",
    "3. Метод append добавляет новый узел в конец списка. Если список пустой, то новый узел становится головным. В противном случае, метод находит последний узел в списке и добавляет новый узел после него.\n",
    "\n",
    "4. Метод print_list выводит все элементы списка, начиная с головного узла. Он проходит по всем узлам, начиная с головного, и печатает данные каждого узла.\n",
    "\n",
    "5. Пример использования создает объект класса LinkedList, добавляет несколько элементов в список с помощью метода append, а затем выводит все элементы списка с помощью метода print_list.\n"
   ]
  },
  {
   "cell_type": "code",
   "execution_count": 275,
   "id": "088ebcb5",
   "metadata": {
    "scrolled": true
   },
   "outputs": [
    {
     "name": "stdout",
     "output_type": "stream",
     "text": [
      "3\n",
      "7\n",
      "10\n"
     ]
    }
   ],
   "source": [
    "class Node:\n",
    "    def __init__(self, data):\n",
    "        self.data = data\n",
    "        self.next = None\n",
    "\n",
    "class LinkedList:\n",
    "    def __init__(self):\n",
    "        self.head = None\n",
    "\n",
    "    def append(self, data):\n",
    "        new_node = Node(data)\n",
    "        if self.head is None:\n",
    "            self.head = new_node\n",
    "            return\n",
    "        last_node = self.head\n",
    "        while last_node.next:\n",
    "            last_node = last_node.next\n",
    "        last_node.next = new_node\n",
    "\n",
    "    def print_list(self):\n",
    "        current_node = self.head\n",
    "        while current_node:\n",
    "            print(current_node.data)\n",
    "            current_node = current_node.next\n",
    "\n",
    "# Создаем связанный список\n",
    "linked_list = LinkedList()\n",
    "linked_list.append(3)\n",
    "linked_list.append(7)\n",
    "linked_list.append(10)\n",
    "linked_list.print_list()"
   ]
  },
  {
   "cell_type": "code",
   "execution_count": 312,
   "id": "20ac673e",
   "metadata": {},
   "outputs": [],
   "source": [
    "class Node: # узел, в котором есть значение и ссылка на следующий узел\n",
    "    def __init__(self, data = None):\n",
    "        self.deta = data # значение\n",
    "        self.next = None # ссылка\n",
    "    \n",
    "class LinkedList1:\n",
    "    def __init__(self):\n",
    "        self.head = None\n",
    "        \n",
    "    def contains (self, data): # проверка на то, есть ли какой-то определенный элемент в списке\n",
    "        lastnode = self.head\n",
    "        while (lastnode):\n",
    "            if data == lastnode.data:\n",
    "                return True\n",
    "            else:\n",
    "                lastnode = lastnode.next\n",
    "        return False\n",
    "    \n",
    "    def addToEnd(self, newdata): # добавление узла в конец списка\n",
    "        newnode = Node(newdata)\n",
    "        if self.head is None:\n",
    "            self.head = newnode\n",
    "            return\n",
    "        lastnode = self.head\n",
    "        while (lastnode.newdata):\n",
    "            lastnode = lastnode.nextdata\n",
    "        lastnode.nextdata = newnode\n",
    "        \n",
    "    def get(self, dataIndex): # получение узла по индексу\n",
    "        lastnode = self.head\n",
    "        nodeIndex = 0\n",
    "        while nodeIndex <= dataIndex:\n",
    "            if nodeIndex == dataIndex:\n",
    "                return lastnode.data\n",
    "            nodeIndex = nodeIndex + 1\n",
    "            lastnode = lastnode.newdata\n",
    "            \n",
    "    def removeNode(self, rmdata): # удаление узла \n",
    "        headdata = self.head\n",
    "        \n",
    "        if headdata.data is not None:\n",
    "            if headdata.data==rmdata:\n",
    "                self.head = headdata.nextdata\n",
    "                headdata = None\n",
    "                return\n",
    "        while headdata is not None:\n",
    "            if headdata.data == rmdata:\n",
    "                break\n",
    "            lastdata = headdata\n",
    "            headdata = headdata.nextdata\n",
    "        if headdata == None:\n",
    "            return\n",
    "        lastdata.nextdata = headdata.nextdata\n",
    "        headdata = None "
   ]
  },
  {
   "cell_type": "markdown",
   "id": "08110f84",
   "metadata": {},
   "source": [
    "3.1) Реализовать метод добавления элемента в начало списка.  "
   ]
  },
  {
   "cell_type": "code",
   "execution_count": 315,
   "id": "48367862",
   "metadata": {},
   "outputs": [
    {
     "name": "stdout",
     "output_type": "stream",
     "text": [
      "0\n",
      "1\n",
      "2\n"
     ]
    }
   ],
   "source": [
    "class Node:\n",
    "    def __init__(self, data):\n",
    "        self.data = data\n",
    "        self.next = None\n",
    "\n",
    "class LinkedList2:\n",
    "    def __init__(self):\n",
    "        self.head = None\n",
    "\n",
    "    def append(self, data):\n",
    "        new_node = Node(data)\n",
    "        if self.head is None:\n",
    "            self.head = new_node\n",
    "            return\n",
    "        last_node = self.head\n",
    "        while last_node.next:\n",
    "            last_node = last_node.next\n",
    "        last_node.next = new_node\n",
    "\n",
    "    def prepend(self, data):\n",
    "        new_node = Node(data)\n",
    "        new_node.next = self.head\n",
    "        self.head = new_node\n",
    "\n",
    "    def print_list(self):\n",
    "        current_node = self.head\n",
    "        while current_node:\n",
    "            print(current_node.data)\n",
    "            current_node = current_node.next\n",
    "\n",
    "# Пример использования\n",
    "linked_list = LinkedList2()\n",
    "linked_list.append(1)\n",
    "linked_list.append(2)\n",
    "linked_list.prepend(0)\n",
    "linked_list.print_list()"
   ]
  },
  {
   "cell_type": "markdown",
   "id": "ae78e590",
   "metadata": {},
   "source": [
    "4) На базе класса однонаправленного связанного списка реализовать двунаправленный связанный список."
   ]
  },
  {
   "cell_type": "markdown",
   "id": "7ed8512d",
   "metadata": {},
   "source": [
    "Для себя: \n",
    "Связанные двунаправленные списки в Python - это тип данных, представляющий собой набор элементов, в котором каждый элемент содержит ссылки не только на следующий элемент списка, но и на предыдущий элемент. Это позволяет обращаться как к следующему, так и к предыдущему элементу списка. Такая структура данных обеспечивает более удобное управление данными и более эффективное выполнение операций, таких как вставка и удаление элементов."
   ]
  },
  {
   "cell_type": "markdown",
   "id": "03da4dd8",
   "metadata": {},
   "source": [
    "Для реализации двунаправленного связанного списка на базе класса однонаправленного связанного списка, нам необходимо модифицировать узел списка и сам класс списка. В двунаправленном списке каждый узел должен иметь ссылку как на следующий, так и на предыдущий узел. \n"
   ]
  },
  {
   "cell_type": "code",
   "execution_count": 316,
   "id": "02d63b82",
   "metadata": {},
   "outputs": [
    {
     "name": "stdout",
     "output_type": "stream",
     "text": [
      "Forward:\n",
      "1 2 3 \n",
      "Backward:\n",
      "3 2 1 \n"
     ]
    }
   ],
   "source": [
    "class Node:\n",
    "    def __init__(self, data):\n",
    "        self.data = data\n",
    "        self.next = None\n",
    "        self.prev = None\n",
    "\n",
    "class DoublyLinkedList:\n",
    "    def __init__(self):\n",
    "        self.head = None\n",
    "        self.tail = None\n",
    "\n",
    "    def append(self, data):\n",
    "        new_node = Node(data)\n",
    "        if self.head is None:\n",
    "            self.head = new_node\n",
    "            self.tail = new_node\n",
    "        else:\n",
    "            new_node.prev = self.tail\n",
    "            self.tail.next = new_node\n",
    "            self.tail = new_node\n",
    "\n",
    "    def print_forward(self):\n",
    "        current = self.head\n",
    "        while current:\n",
    "            print(current.data, end=\" \")\n",
    "            current = current.next\n",
    "        print()\n",
    "\n",
    "    def print_backward(self):\n",
    "        current = self.tail\n",
    "        while current:\n",
    "            print(current.data, end=\" \")\n",
    "            current = current.prev\n",
    "        print()\n",
    "\n",
    "# Пример использования\n",
    "dllist = DoublyLinkedList()\n",
    "dllist.append(1)\n",
    "dllist.append(2)\n",
    "dllist.append(3)\n",
    "\n",
    "print(\"Forward:\")\n",
    "dllist.print_forward()\n",
    "\n",
    "print(\"Backward:\")\n",
    "dllist.print_backward()"
   ]
  },
  {
   "cell_type": "markdown",
   "id": "a4bafeac",
   "metadata": {},
   "source": [
    "4.1) Реализовать метод добавления элемента в начало списка.  "
   ]
  },
  {
   "cell_type": "code",
   "execution_count": 317,
   "id": "7e14c6a3",
   "metadata": {},
   "outputs": [
    {
     "name": "stdout",
     "output_type": "stream",
     "text": [
      "Forward:\n",
      "1 2 3 \n",
      "Backward:\n",
      "3 2 1 \n"
     ]
    }
   ],
   "source": [
    "class DoublyLinkedList1:\n",
    "    def __init__(self):\n",
    "        self.head = None\n",
    "        self.tail = None\n",
    "\n",
    "    def append(self, data):\n",
    "        new_node = Node(data)\n",
    "        if self.head is None:\n",
    "            self.head = new_node\n",
    "            self.tail = new_node\n",
    "        else:\n",
    "            new_node.prev = self.tail\n",
    "            self.tail.next = new_node\n",
    "            self.tail = new_node\n",
    "\n",
    "    def prepend(self, data):\n",
    "        new_node = Node(data)\n",
    "        if self.head is None:\n",
    "            self.head = new_node\n",
    "            self.tail = new_node\n",
    "        else:\n",
    "            new_node.next = self.head\n",
    "            self.head.prev = new_node\n",
    "            self.head = new_node\n",
    "\n",
    "    def print_forward(self):\n",
    "        current = self.head\n",
    "        while current:\n",
    "            print(current.data, end=\" \")\n",
    "            current = current.next\n",
    "        print()\n",
    "\n",
    "    def print_backward(self):\n",
    "        current = self.tail\n",
    "        while current:\n",
    "            print(current.data, end=\" \")\n",
    "            current = current.prev\n",
    "        print()\n",
    "\n",
    "# Пример использования\n",
    "dllist = DoublyLinkedList1()\n",
    "dllist.prepend(3)\n",
    "dllist.prepend(2)\n",
    "dllist.prepend(1)\n",
    "\n",
    "print(\"Forward:\")\n",
    "dllist.print_forward()\n",
    "\n",
    "print(\"Backward:\")\n",
    "dllist.print_backward()"
   ]
  },
  {
   "cell_type": "markdown",
   "id": "99a1ceb7",
   "metadata": {},
   "source": [
    "5) При помощи класса связанного списка реализовать очередь."
   ]
  },
  {
   "cell_type": "markdown",
   "id": "67a90d62",
   "metadata": {},
   "source": [
    "Для себя: \n",
    "Очередь в Python - это структура данных, которая работает по принципу \"первым пришел - первым ушел\" (First-In-First-Out, FIFO). Это означает, что элементы добавляются в конец очереди, а затем извлекаются из ее начала."
   ]
  },
  {
   "cell_type": "markdown",
   "id": "981a2fea",
   "metadata": {},
   "source": [
    "Для реализации очереди с использованием класса связанного списка, мы можем использовать двунаправленный связанный список. Мы будем добавлять элементы в конец очереди (enqueue) и удалять элементы из начала очереди (dequeue).\n"
   ]
  },
  {
   "cell_type": "code",
   "execution_count": 318,
   "id": "3e5bceae",
   "metadata": {},
   "outputs": [
    {
     "name": "stdout",
     "output_type": "stream",
     "text": [
      "1\n",
      "2\n",
      "3\n",
      "True\n"
     ]
    }
   ],
   "source": [
    "class Node:\n",
    "    def __init__(self, data):\n",
    "        self.data = data\n",
    "        self.next = None\n",
    "        self.prev = None\n",
    "\n",
    "class DoublyLinkedList2:\n",
    "    def __init__(self):\n",
    "        self.head = None\n",
    "        self.tail = None\n",
    "\n",
    "    def append(self, data):\n",
    "        new_node = Node(data)\n",
    "        if self.head is None:\n",
    "            self.head = new_node\n",
    "            self.tail = new_node\n",
    "        else:\n",
    "            new_node.prev = self.tail\n",
    "            self.tail.next = new_node\n",
    "            self.tail = new_node\n",
    "\n",
    "    def prepend(self, data):\n",
    "        new_node = Node(data)\n",
    "        if self.head is None:\n",
    "            self.head = new_node\n",
    "            self.tail = new_node\n",
    "        else:\n",
    "            new_node.next = self.head\n",
    "            self.head.prev = new_node\n",
    "            self.head = new_node\n",
    "\n",
    "    def pop(self):\n",
    "        if self.head is None:\n",
    "            return None\n",
    "        data = self.head.data\n",
    "        if self.head == self.tail:\n",
    "            self.head = None\n",
    "            self.tail = None\n",
    "        else:\n",
    "            self.head = self.head.next\n",
    "            self.head.prev = None\n",
    "        return data\n",
    "\n",
    "class Queue:\n",
    "    def __init__(self):\n",
    "        self.queue = DoublyLinkedList2()\n",
    "\n",
    "    def enqueue(self, data):\n",
    "        self.queue.append(data)\n",
    "\n",
    "    def dequeue(self):\n",
    "        return self.queue.pop()\n",
    "\n",
    "    def is_empty(self):\n",
    "        return self.queue.head is None\n",
    "\n",
    "# Пример использования\n",
    "queue = Queue()\n",
    "queue.enqueue(1)\n",
    "queue.enqueue(2)\n",
    "queue.enqueue(3)\n",
    "\n",
    "print(queue.dequeue())  # 1\n",
    "print(queue.dequeue())  # 2\n",
    "print(queue.dequeue())  # 3\n",
    "print(queue.is_empty())  # True\n"
   ]
  }
 ],
 "metadata": {
  "kernelspec": {
   "display_name": "Python 3 (ipykernel)",
   "language": "python",
   "name": "python3"
  },
  "language_info": {
   "codemirror_mode": {
    "name": "ipython",
    "version": 3
   },
   "file_extension": ".py",
   "mimetype": "text/x-python",
   "name": "python",
   "nbconvert_exporter": "python",
   "pygments_lexer": "ipython3",
   "version": "3.11.4"
  }
 },
 "nbformat": 4,
 "nbformat_minor": 5
}
